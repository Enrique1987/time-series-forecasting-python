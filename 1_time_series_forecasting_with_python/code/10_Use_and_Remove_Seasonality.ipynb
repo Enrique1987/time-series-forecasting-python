{
 "cells": [
  {
   "cell_type": "markdown",
   "id": "00371145",
   "metadata": {},
   "source": [
    "## 10 Use and remove Seasonality."
   ]
  },
  {
   "cell_type": "markdown",
   "id": "b1655fc6",
   "metadata": {},
   "source": [
    "Seasonal component its a cycle that repeat over time, such as monthly or yearly. This seasonality component could oscure the signal that we wish to model.\n",
    "\n",
    "In this notebook we going to learn how to identify and correct seasonality."
   ]
  },
  {
   "cell_type": "markdown",
   "id": "5fa909c0",
   "metadata": {},
   "source": [
    "### 10.1 Seasonality, Benefits, Types and removing it.\n",
    "\n",
    "`Seasonality`: Are Cicles that repeat regularila over time.\n",
    "\n",
    "\n",
    "*Clearer Signal:* Identify and removing seasonality in a Time Series can result in a clear relationship between input and output.  \n",
    "\n",
    "*More Information:* Additionaly information about seasonal component of the TS can improve the model.\n",
    "\n",
    "There are many types of sasonality: \"time of day\", \"daily\", \"weekly\", \"monthly\", \"yearly\". \n",
    "\n",
    "Once seasonality is identified it can be modeled. Seaosnality can be remove from TS and it will be called stationary. We will take a look at two mothods for making seasonality adjustemtns."
   ]
  },
  {
   "cell_type": "code",
   "execution_count": 10,
   "id": "7e7ad7cd",
   "metadata": {},
   "outputs": [],
   "source": [
    "import pandas as pd\n",
    "import os\n",
    "from matplotlib import pyplot\n",
    "import numpy as np\n",
    "import datetime\n",
    "from sklearn.linear_model import LinearRegression\n",
    "def parser(x):\n",
    "    return datetime.strptime('190'+x, '%Y-%m')\n",
    "pyplot.rcParams['figure.figsize'] = [13, 6]"
   ]
  },
  {
   "cell_type": "code",
   "execution_count": 3,
   "id": "3570440c",
   "metadata": {},
   "outputs": [],
   "source": [
    "\n",
    "data = os.environ.get('data') # avoid personal information in the notebook\n",
    "data_path = data + '\\\\01_TimeSeries\\\\5-shampoo-sales.csv'\n",
    "\n",
    "series = pd.read_csv(data_path, header=0, index_col=0, parse_dates=True, squeeze=True)"
   ]
  },
  {
   "cell_type": "markdown",
   "id": "e4fec1e1",
   "metadata": {},
   "source": [
    "#### End."
   ]
  }
 ],
 "metadata": {
  "kernelspec": {
   "display_name": "Python 3 (ipykernel)",
   "language": "python",
   "name": "python3"
  },
  "language_info": {
   "codemirror_mode": {
    "name": "ipython",
    "version": 3
   },
   "file_extension": ".py",
   "mimetype": "text/x-python",
   "name": "python",
   "nbconvert_exporter": "python",
   "pygments_lexer": "ipython3",
   "version": "3.9.13"
  }
 },
 "nbformat": 4,
 "nbformat_minor": 5
}
